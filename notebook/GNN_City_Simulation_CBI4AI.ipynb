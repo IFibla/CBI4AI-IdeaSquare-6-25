{
  "cells": [
    {
      "cell_type": "markdown",
      "id": "bWCUFTqLsZS-",
      "metadata": {
        "id": "bWCUFTqLsZS-"
      },
      "source": [
        "# 🧠 GNN City Simulation — All-in-One Notebook\n",
        "\n",
        "This notebook demonstrates how to model and analyze a smart city system using **Graph Neural Networks (GNNs)**. It includes everything you need to simulate a miniature world of city landmarks (like housing, water sources, power plants, etc.), define production/consumption relationships, and visualize flows.\n",
        "\n",
        "---\n",
        "\n",
        "## 📦 What This Notebook Does\n",
        "\n",
        "✅ **Generates a mock city graph** with nodes and edges:  \n",
        "- Nodes are city landmarks with specific roles (e.g., factories, mines, farms).  \n",
        "- Edges represent physical infrastructure (e.g., roads), with distances.\n",
        "\n",
        "✅ **Defines resource requirements**:  \n",
        "- Housing needs water, energy, and goods.  \n",
        "- Factories need minerals and materials.  \n",
        "- These dependencies are stored as directional resource flows.\n",
        "\n",
        "✅ **Uses a GNN (Graph Convolutional Network)** to compute embeddings:  \n",
        "- Each landmark is assigned a learned vector based on its type, neighbors, and graph context.\n",
        "\n",
        "✅ **Visualizes**:  \n",
        "- City infrastructure (gray dashed roads)  \n",
        "- Resource flows (black arrows with quantity/type)  \n",
        "- Landmark types (color-coded nodes)  \n",
        "\n",
        "✅ **Ensures realism**:  \n",
        "- Every node is connected  \n",
        "- Consumers are guaranteed to be linked to valid producers\n",
        "\n",
        "---\n",
        "\n",
        "## 🎯 Learning Goals\n",
        "\n",
        "- Represent real-world systems as graphs  \n",
        "- Combine structured tabular and network data  \n",
        "- Use PyTorch Geometric to build and run a GCN  \n",
        "- Visualize and interpret multi-type graphs  \n",
        "- Explore GNN applications in city planning, logistics, and optimization\n",
        "\n",
        "---\n",
        "\n",
        "## 🚀 Ready to Use\n",
        "\n",
        "This notebook is self-contained and ideal for:\n",
        "- Teaching graph ML concepts  \n",
        "- Rapid experimentation  \n",
        "- Student challenges and course projects\n",
        "\n",
        "No additional files are needed — just run all cells!\n",
        "\n"
      ]
    },
    {
      "cell_type": "markdown",
      "id": "gMXA7JwUmxcT",
      "metadata": {
        "id": "gMXA7JwUmxcT"
      },
      "source": [
        "# Load libraries and functions"
      ]
    },
    {
      "cell_type": "code",
      "execution_count": 1,
      "id": "bHbOmrsysZS_",
      "metadata": {
        "colab": {
          "base_uri": "https://localhost:8080/"
        },
        "id": "bHbOmrsysZS_",
        "outputId": "4b73131c-feab-41be-f564-376bb920fcf3"
      },
      "outputs": [
        {
          "name": "stdout",
          "output_type": "stream",
          "text": [
            "Looking in links: https://data.pyg.org/whl/torch-2.0.0+cpu.html\n",
            "Collecting torch-geometric\n",
            "  Obtaining dependency information for torch-geometric from https://files.pythonhosted.org/packages/03/9f/157e913626c1acfb3b19ce000b1a6e4e4fb177c0bc0ea0c67ca5bd714b5a/torch_geometric-2.6.1-py3-none-any.whl.metadata\n",
            "  Downloading torch_geometric-2.6.1-py3-none-any.whl.metadata (63 kB)\n",
            "\u001b[2K     \u001b[90m━━━━━━━━━━━━━━━━━━━━━━━━━━━━━━━━━━━━━━━━\u001b[0m \u001b[32m63.1/63.1 kB\u001b[0m \u001b[31m2.4 MB/s\u001b[0m eta \u001b[36m0:00:00\u001b[0m\n",
            "\u001b[?25hCollecting torch-scatter\n",
            "  Downloading https://data.pyg.org/whl/torch-2.0.0%2Bcpu/torch_scatter-2.1.2-cp311-cp311-macosx_10_9_universal2.whl (638 kB)\n",
            "\u001b[2K     \u001b[90m━━━━━━━━━━━━━━━━━━━━━━━━━━━━━━━━━━━━━\u001b[0m \u001b[32m638.3/638.3 kB\u001b[0m \u001b[31m818.0 kB/s\u001b[0m eta \u001b[36m0:00:00\u001b[0ma \u001b[36m0:00:01\u001b[0m\n",
            "\u001b[?25hCollecting torch-sparse\n",
            "  Downloading https://data.pyg.org/whl/torch-2.0.0%2Bcpu/torch_sparse-0.6.18-cp311-cp311-macosx_10_9_universal2.whl (970 kB)\n",
            "\u001b[2K     \u001b[90m━━━━━━━━━━━━━━━━━━━━━━━━━━━━━━━━━━━━━━━\u001b[0m \u001b[32m970.3/970.3 kB\u001b[0m \u001b[31m1.0 MB/s\u001b[0m eta \u001b[36m0:00:00\u001b[0ma \u001b[36m0:00:01\u001b[0m\n",
            "\u001b[?25hCollecting torch-cluster\n",
            "  Downloading https://data.pyg.org/whl/torch-2.0.0%2Bcpu/torch_cluster-1.6.3-cp311-cp311-macosx_10_9_universal2.whl (571 kB)\n",
            "\u001b[2K     \u001b[90m━━━━━━━━━━━━━━━━━━━━━━━━━━━━━━━━━━━━━\u001b[0m \u001b[32m571.6/571.6 kB\u001b[0m \u001b[31m726.9 kB/s\u001b[0m eta \u001b[36m0:00:00\u001b[0ma \u001b[36m0:00:01\u001b[0m\n",
            "\u001b[?25hCollecting torch-spline-conv\n",
            "  Downloading https://data.pyg.org/whl/torch-2.0.0%2Bcpu/torch_spline_conv-1.2.2-cp311-cp311-macosx_10_9_universal2.whl (200 kB)\n",
            "\u001b[2K     \u001b[90m━━━━━━━━━━━━━━━━━━━━━━━━━━━━━━━━━━━━━\u001b[0m \u001b[32m200.8/200.8 kB\u001b[0m \u001b[31m407.0 kB/s\u001b[0m eta \u001b[36m0:00:00\u001b[0ma \u001b[36m0:00:01\u001b[0m\n",
            "\u001b[?25hRequirement already satisfied: aiohttp in /Users/ignasi/anaconda3/lib/python3.11/site-packages (from torch-geometric) (3.10.5)\n",
            "Requirement already satisfied: fsspec in /Users/ignasi/anaconda3/lib/python3.11/site-packages (from torch-geometric) (2024.10.0)\n",
            "Requirement already satisfied: jinja2 in /Users/ignasi/anaconda3/lib/python3.11/site-packages (from torch-geometric) (3.1.4)\n",
            "Requirement already satisfied: numpy in /Users/ignasi/anaconda3/lib/python3.11/site-packages (from torch-geometric) (1.26.3)\n",
            "Requirement already satisfied: psutil>=5.8.0 in /Users/ignasi/anaconda3/lib/python3.11/site-packages (from torch-geometric) (5.9.0)\n",
            "Requirement already satisfied: pyparsing in /Users/ignasi/anaconda3/lib/python3.11/site-packages (from torch-geometric) (3.2.0)\n",
            "Requirement already satisfied: requests in /Users/ignasi/anaconda3/lib/python3.11/site-packages (from torch-geometric) (2.32.3)\n",
            "Requirement already satisfied: tqdm in /Users/ignasi/anaconda3/lib/python3.11/site-packages (from torch-geometric) (4.65.0)\n",
            "Requirement already satisfied: scipy in /Users/ignasi/anaconda3/lib/python3.11/site-packages (from torch-sparse) (1.10.1)\n",
            "Requirement already satisfied: aiohappyeyeballs>=2.3.0 in /Users/ignasi/anaconda3/lib/python3.11/site-packages (from aiohttp->torch-geometric) (2.4.3)\n",
            "Requirement already satisfied: aiosignal>=1.1.2 in /Users/ignasi/anaconda3/lib/python3.11/site-packages (from aiohttp->torch-geometric) (1.2.0)\n",
            "Requirement already satisfied: attrs>=17.3.0 in /Users/ignasi/anaconda3/lib/python3.11/site-packages (from aiohttp->torch-geometric) (24.2.0)\n",
            "Requirement already satisfied: frozenlist>=1.1.1 in /Users/ignasi/anaconda3/lib/python3.11/site-packages (from aiohttp->torch-geometric) (1.3.3)\n",
            "Requirement already satisfied: multidict<7.0,>=4.5 in /Users/ignasi/anaconda3/lib/python3.11/site-packages (from aiohttp->torch-geometric) (6.0.2)\n",
            "Requirement already satisfied: yarl<2.0,>=1.0 in /Users/ignasi/anaconda3/lib/python3.11/site-packages (from aiohttp->torch-geometric) (1.18.0)\n",
            "Requirement already satisfied: MarkupSafe>=2.0 in /Users/ignasi/anaconda3/lib/python3.11/site-packages (from jinja2->torch-geometric) (2.1.1)\n",
            "Requirement already satisfied: charset-normalizer<4,>=2 in /Users/ignasi/anaconda3/lib/python3.11/site-packages (from requests->torch-geometric) (2.0.4)\n",
            "Requirement already satisfied: idna<4,>=2.5 in /Users/ignasi/anaconda3/lib/python3.11/site-packages (from requests->torch-geometric) (3.4)\n",
            "Requirement already satisfied: urllib3<3,>=1.21.1 in /Users/ignasi/anaconda3/lib/python3.11/site-packages (from requests->torch-geometric) (2.2.3)\n",
            "Requirement already satisfied: certifi>=2017.4.17 in /Users/ignasi/anaconda3/lib/python3.11/site-packages (from requests->torch-geometric) (2025.1.31)\n",
            "Requirement already satisfied: propcache>=0.2.0 in /Users/ignasi/anaconda3/lib/python3.11/site-packages (from yarl<2.0,>=1.0->aiohttp->torch-geometric) (0.2.0)\n",
            "Downloading torch_geometric-2.6.1-py3-none-any.whl (1.1 MB)\n",
            "\u001b[2K   \u001b[90m━━━━━━━━━━━━━━━━━━━━━━━━━━━━━━━━━━━━━━━━\u001b[0m \u001b[32m1.1/1.1 MB\u001b[0m \u001b[31m15.5 MB/s\u001b[0m eta \u001b[36m0:00:00\u001b[0m00:01\u001b[0m00:01\u001b[0m\n",
            "\u001b[?25hInstalling collected packages: torch-spline-conv, torch-scatter, torch-sparse, torch-cluster, torch-geometric\n",
            "Successfully installed torch-cluster-1.6.3 torch-geometric-2.6.1 torch-scatter-2.1.2 torch-sparse-0.6.18 torch-spline-conv-1.2.2\n"
          ]
        }
      ],
      "source": [
        "!pip install torch-geometric torch-scatter torch-sparse torch-cluster torch-spline-conv -f https://data.pyg.org/whl/torch-2.0.0+cpu.html"
      ]
    },
    {
      "cell_type": "code",
      "execution_count": 2,
      "id": "Y5OCEJXbsZTA",
      "metadata": {
        "colab": {
          "base_uri": "https://localhost:8080/"
        },
        "id": "Y5OCEJXbsZTA",
        "outputId": "96089877-dc1e-490c-af5b-db44ca726cf9"
      },
      "outputs": [
        {
          "name": "stderr",
          "output_type": "stream",
          "text": [
            "/Users/ignasi/anaconda3/lib/python3.11/site-packages/torch/utils/_pytree.py:185: FutureWarning: optree is installed but the version is too old to support PyTorch Dynamo in C++ pytree. C++ pytree support is disabled. Please consider upgrading optree using `python3 -m pip install --upgrade 'optree>=0.13.0'`.\n",
            "  warnings.warn(\n",
            "/Users/ignasi/anaconda3/lib/python3.11/site-packages/torch_geometric/typing.py:86: UserWarning: An issue occurred while importing 'torch-scatter'. Disabling its usage. Stacktrace: dlopen(/Users/ignasi/anaconda3/lib/python3.11/site-packages/torch_scatter/_version_cpu.so, 0x0006): symbol not found in flat namespace '__ZN3c1017RegisterOperatorsD1Ev'\n",
            "  warnings.warn(f\"An issue occurred while importing 'torch-scatter'. \"\n",
            "/Users/ignasi/anaconda3/lib/python3.11/site-packages/torch_geometric/typing.py:97: UserWarning: An issue occurred while importing 'torch-cluster'. Disabling its usage. Stacktrace: dlopen(/Users/ignasi/anaconda3/lib/python3.11/site-packages/torch_cluster/_version_cpu.so, 0x0006): symbol not found in flat namespace '__ZN3c1017RegisterOperatorsD1Ev'\n",
            "  warnings.warn(f\"An issue occurred while importing 'torch-cluster'. \"\n",
            "/Users/ignasi/anaconda3/lib/python3.11/site-packages/torch_geometric/typing.py:113: UserWarning: An issue occurred while importing 'torch-spline-conv'. Disabling its usage. Stacktrace: dlopen(/Users/ignasi/anaconda3/lib/python3.11/site-packages/torch_spline_conv/_version_cpu.so, 0x0006): symbol not found in flat namespace '__ZN3c1017RegisterOperatorsD1Ev'\n",
            "  warnings.warn(\n",
            "/Users/ignasi/anaconda3/lib/python3.11/site-packages/torch_geometric/typing.py:124: UserWarning: An issue occurred while importing 'torch-sparse'. Disabling its usage. Stacktrace: dlopen(/Users/ignasi/anaconda3/lib/python3.11/site-packages/torch_sparse/_version_cpu.so, 0x0006): symbol not found in flat namespace '__ZN3c1017RegisterOperatorsD1Ev'\n",
            "  warnings.warn(f\"An issue occurred while importing 'torch-sparse'. \"\n"
          ]
        }
      ],
      "source": [
        "import pandas as pd\n",
        "import torch\n",
        "from torch_geometric.data import Data\n",
        "from torch_geometric.nn import GCNConv\n",
        "import networkx as nx\n",
        "import matplotlib.pyplot as plt\n",
        "import random\n",
        "import numpy as np\n",
        "import os\n"
      ]
    },
    {
      "cell_type": "markdown",
      "id": "7Yexo-iwnClg",
      "metadata": {
        "id": "7Yexo-iwnClg"
      },
      "source": [
        "# Data Generation Function"
      ]
    },
    {
      "cell_type": "code",
      "execution_count": 3,
      "id": "kr2GlqgfsZTA",
      "metadata": {
        "id": "kr2GlqgfsZTA"
      },
      "outputs": [],
      "source": [
        "def generate_mock_data(output_dir=\"data\", n_landmarks=10, edge_prob=0.3):\n",
        "    import os\n",
        "    import pandas as pd\n",
        "    import random\n",
        "    import numpy as np\n",
        "\n",
        "    random.seed(42)\n",
        "    np.random.seed(42)\n",
        "\n",
        "    os.makedirs(output_dir, exist_ok=True)\n",
        "\n",
        "    landmark_types = {\n",
        "        \"housing\": {\"citizens\": (500, 2000), \"needs\": [\"water\", \"energy\", \"goods\"]},\n",
        "        \"water_source\": {\"water_prod\": (5000, 15000)},\n",
        "        \"power_plant\": {\"energy_prod\": (3000, 10000)},\n",
        "        \"farm\": {\"materials_prod\": (200, 500)},\n",
        "        \"mine\": {\"minerals_prod\": (100, 300)},\n",
        "        \"factory\": {\"goods_prod\": (100, 400), \"needs\": [\"materials\", \"minerals\"]},\n",
        "    }\n",
        "\n",
        "    # Create landmarks\n",
        "    nodes = []\n",
        "    for i in range(n_landmarks):\n",
        "        l_type = random.choice(list(landmark_types.keys()))\n",
        "        attrs = {\"id\": i, \"type\": l_type}\n",
        "        for k, v in landmark_types[l_type].items():\n",
        "            if k == \"needs\":\n",
        "                attrs[k] = \",\".join(v)\n",
        "            else:\n",
        "                attrs[k] = random.randint(*v)\n",
        "        nodes.append(attrs)\n",
        "\n",
        "    node_df = pd.DataFrame(nodes)\n",
        "    for col in [\"citizens\", \"water_prod\", \"energy_prod\", \"materials_prod\", \"minerals_prod\", \"goods_prod\", \"needs\"]:\n",
        "        if col not in node_df.columns:\n",
        "            node_df[col] = 0 if \"prod\" in col or col == \"citizens\" else \"\"\n",
        "\n",
        "    # Create requirements and ensure connectivity\n",
        "    edges = []\n",
        "    requirements = []\n",
        "    for _, row in node_df.iterrows():\n",
        "        needs_raw = str(row[\"needs\"])\n",
        "        if needs_raw and needs_raw != \"0\":\n",
        "            for need in needs_raw.split(\",\"):\n",
        "                prod_col = f\"{need}_prod\"\n",
        "                if prod_col in node_df.columns:\n",
        "                    candidates = node_df[(node_df[prod_col] > 0) & (node_df[\"id\"] != row[\"id\"])]\n",
        "                    if not candidates.empty:\n",
        "                        producer = candidates.sample(1).iloc[0]\n",
        "                        if not any((e[0] == row[\"id\"] and e[1] == producer[\"id\"]) or\n",
        "                                   (e[0] == producer[\"id\"] and e[1] == row[\"id\"]) for e in edges):\n",
        "                            dist = round(random.uniform(1.0, 5.0), 2)\n",
        "                            edges.append((row[\"id\"], producer[\"id\"], dist))\n",
        "                        requirements.append({\n",
        "                            \"from_id\": producer[\"id\"],\n",
        "                            \"to_id\": row[\"id\"],\n",
        "                            \"resource_type\": need,\n",
        "                            \"quantity\": random.randint(50, 300)\n",
        "                        })\n",
        "\n",
        "    # Add random edges\n",
        "    for i in range(n_landmarks):\n",
        "        for j in range(i + 1, n_landmarks):\n",
        "            if random.random() < edge_prob and not any((e[0] == i and e[1] == j) or (e[0] == j and e[1] == i) for e in edges):\n",
        "                dist = round(random.uniform(1.0, 5.0), 2)\n",
        "                edges.append((i, j, dist))\n",
        "\n",
        "    # Ensure all nodes are connected at least once\n",
        "    connected_nodes = set()\n",
        "    for edge in edges:\n",
        "        connected_nodes.add(edge[0])\n",
        "        connected_nodes.add(edge[1])\n",
        "\n",
        "    all_nodes = set(node_df[\"id\"].tolist())\n",
        "    unconnected = all_nodes - connected_nodes\n",
        "\n",
        "    for node in unconnected:\n",
        "        possible_targets = list(all_nodes - {node})\n",
        "        if possible_targets:\n",
        "            target = random.choice(possible_targets)\n",
        "            dist = round(random.uniform(1.0, 5.0), 2)\n",
        "            edges.append((node, target, dist))\n",
        "\n",
        "    # Save to CSV\n",
        "    edge_df = pd.DataFrame(edges, columns=[\"source\", \"target\", \"distance\"])\n",
        "    req_df = pd.DataFrame(requirements)\n",
        "\n",
        "    node_df.to_csv(f\"{output_dir}/landmark_features.csv\", index=False)\n",
        "    edge_df.to_csv(f\"{output_dir}/city_graph.csv\", index=False)\n",
        "    req_df.to_csv(f\"{output_dir}/requirements.csv\", index=False)\n"
      ]
    },
    {
      "cell_type": "markdown",
      "id": "0BzKMBNIm2Fy",
      "metadata": {
        "id": "0BzKMBNIm2Fy"
      },
      "source": [
        "# Generate and Visualize data"
      ]
    },
    {
      "cell_type": "code",
      "execution_count": 4,
      "id": "oNWfurH2sZTB",
      "metadata": {
        "id": "oNWfurH2sZTB"
      },
      "outputs": [],
      "source": [
        "generate_mock_data()\n"
      ]
    },
    {
      "cell_type": "code",
      "execution_count": 5,
      "id": "WEwihhBcsZTB",
      "metadata": {
        "id": "WEwihhBcsZTB"
      },
      "outputs": [],
      "source": [
        "features = pd.read_csv(\"data/landmark_features.csv\")\n",
        "edges = pd.read_csv(\"data/city_graph.csv\")\n",
        "requirements = pd.read_csv(\"data/requirements.csv\")\n"
      ]
    },
    {
      "cell_type": "markdown",
      "id": "xTAsCPErmLFX",
      "metadata": {
        "id": "xTAsCPErmLFX"
      },
      "source": [
        "Landmark Features Dataset:\n",
        "\n",
        "* Landmark ID: Identifier of the landmark\n",
        "* Type: type of landmark (\"factory\", \"housing\", \"water_source\", \"farm\", \"power_plant\", ...)\n",
        "* Goods: Elements produced at the landmark\n",
        "* Needs: Elements needed at the landmark\n",
        "* Citizens: People living (for housing)\n",
        "* X_prod: Amount of elements \"X\" produced (for goods or energy sources)"
      ]
    },
    {
      "cell_type": "code",
      "execution_count": 6,
      "id": "8Y8VvMKtlUaw",
      "metadata": {
        "colab": {
          "base_uri": "https://localhost:8080/"
        },
        "id": "8Y8VvMKtlUaw",
        "outputId": "6b8e009b-0c70-4cb4-a860-969688ae811e"
      },
      "outputs": [
        {
          "name": "stdout",
          "output_type": "stream",
          "text": [
            "id,type,goods_prod,needs,citizens,water_prod,materials_prod,minerals_prod,energy_prod\n",
            "0,factory,157.0,\"materials,minerals\",,,,,0\n",
            "1,housing,,\"water,energy,goods\",1063.0,,,,0\n",
            "2,water_source,,,,8657.0,,,0\n",
            "3,water_source,,,,6679.0,,,0\n",
            "4,factory,379.0,\"materials,minerals\",,,,,0\n",
            "5,housing,,\"water,energy,goods\",1709.0,,,,0\n",
            "6,farm,,,,,216.0,,0\n",
            "7,housing,,\"water,energy,goods\",691.0,,,,0\n",
            "8,water_source,,,,8811.0,,,0\n",
            "9,mine,,,,,,254.0,0\n"
          ]
        }
      ],
      "source": [
        "!head -n 12 data/landmark_features.csv"
      ]
    },
    {
      "cell_type": "markdown",
      "id": "96YWVwxymCEq",
      "metadata": {
        "id": "96YWVwxymCEq"
      },
      "source": [
        "City Graph Dataset:\n",
        "\n",
        "* Adjacency Matrix: \"ID 1\", \"ID2\", \"Distance\""
      ]
    },
    {
      "cell_type": "code",
      "execution_count": null,
      "id": "-a4Y9iHbliN8",
      "metadata": {
        "colab": {
          "base_uri": "https://localhost:8080/"
        },
        "id": "-a4Y9iHbliN8",
        "outputId": "d1e647f3-0e1a-4e84-8814-b3bebdb6ec12"
      },
      "outputs": [
        {
          "name": "stdout",
          "output_type": "stream",
          "text": [
            "source,target,distance\n",
            "0,6,1.11\n",
            "0,9,3.86\n",
            "1,2,3.18\n",
            "1,4,2.8\n",
            "4,6,4.24\n",
            "4,9,4.04\n",
            "5,3,3.79\n",
            "5,0,2.11\n",
            "7,3,4.83\n"
          ]
        }
      ],
      "source": [
        "!head data/city_graph.csv"
      ]
    },
    {
      "cell_type": "markdown",
      "id": "t3GTYqoYls4d",
      "metadata": {
        "id": "t3GTYqoYls4d"
      },
      "source": [
        "Requirements Dataset:\n",
        "\n",
        "* \"From\" ID: Origin landmark\n",
        "* \"To\" ID: Destination landmark\n",
        "* \"Material\": Elements to transport\n",
        "* \"Quantity\": Amounts required"
      ]
    },
    {
      "cell_type": "code",
      "execution_count": null,
      "id": "saSdsutrlkUc",
      "metadata": {
        "colab": {
          "base_uri": "https://localhost:8080/"
        },
        "id": "saSdsutrlkUc",
        "outputId": "a91e29e5-27ea-4782-cc94-f0a726eae814"
      },
      "outputs": [
        {
          "name": "stdout",
          "output_type": "stream",
          "text": [
            "from_id,to_id,resource_type,quantity\n",
            "6,0,materials,100\n",
            "9,0,minerals,229\n",
            "2,1,water,106\n",
            "4,1,goods,121\n",
            "6,4,materials,51\n",
            "9,4,minerals,90\n",
            "3,5,water,137\n",
            "0,5,goods,105\n",
            "3,7,water,136\n"
          ]
        }
      ],
      "source": [
        "!head data/requirements.csv"
      ]
    },
    {
      "cell_type": "code",
      "execution_count": null,
      "id": "WDvC3BhPeDcZ",
      "metadata": {
        "colab": {
          "base_uri": "https://localhost:8080/"
        },
        "id": "WDvC3BhPeDcZ",
        "outputId": "29f033a7-4832-4a1e-ec0d-4030fbe2fc05"
      },
      "outputs": [
        {
          "name": "stdout",
          "output_type": "stream",
          "text": [
            "   from_id  to_id resource_type  quantity\n",
            "0        6      0     materials       100\n",
            "1        9      0      minerals       229\n",
            "2        2      1         water       106\n",
            "3        4      1         goods       121\n",
            "4        6      4     materials        51\n",
            "5        9      4      minerals        90\n",
            "6        3      5         water       137\n",
            "7        0      5         goods       105\n",
            "8        3      7         water       136\n",
            "9        4      7         goods       147\n"
          ]
        }
      ],
      "source": [
        "print(requirements)"
      ]
    },
    {
      "cell_type": "markdown",
      "id": "x9aD3tNum88Q",
      "metadata": {
        "id": "x9aD3tNum88Q"
      },
      "source": [
        "# GNN + Problem configuration"
      ]
    },
    {
      "cell_type": "markdown",
      "id": "yO3bSyqWoELp",
      "metadata": {
        "id": "yO3bSyqWoELp"
      },
      "source": [
        "## Shape the Data into GNN-compliant data"
      ]
    },
    {
      "cell_type": "markdown",
      "id": "erz9-drknYeV",
      "metadata": {
        "id": "erz9-drknYeV"
      },
      "source": [
        "### Generate NODE properties from Landmarks"
      ]
    },
    {
      "cell_type": "code",
      "execution_count": null,
      "id": "6SKxcoddsZTB",
      "metadata": {
        "id": "6SKxcoddsZTB"
      },
      "outputs": [],
      "source": [
        "type_map = {t: i for i, t in enumerate(features['type'].unique())}\n",
        "features['type_id'] = features['type'].map(type_map)\n",
        "node_feats = features[['type_id', 'citizens', 'water_prod', 'energy_prod',\n",
        "                       'materials_prod', 'minerals_prod', 'goods_prod']].fillna(0)\n",
        "x = torch.tensor(node_feats.values, dtype=torch.float)\n"
      ]
    },
    {
      "cell_type": "markdown",
      "id": "C0tKxYFencGW",
      "metadata": {
        "id": "C0tKxYFencGW"
      },
      "source": [
        "### Generate EDGE properties from City Graph"
      ]
    },
    {
      "cell_type": "code",
      "execution_count": null,
      "id": "QbPF5m8UsZTB",
      "metadata": {
        "id": "QbPF5m8UsZTB"
      },
      "outputs": [],
      "source": [
        "edge_index = torch.tensor(edges[['source', 'target']].values.T, dtype=torch.long)\n",
        "rev_index = edge_index[[1, 0], :]\n",
        "edge_index = torch.cat([edge_index, rev_index], dim=1)\n",
        "\n",
        "weights = torch.tensor([1.0 / d for d in edges['distance']], dtype=torch.float)\n",
        "weights = torch.cat([weights, weights], dim=0)\n"
      ]
    },
    {
      "cell_type": "markdown",
      "id": "2dV7p1v7nmOx",
      "metadata": {
        "id": "2dV7p1v7nmOx"
      },
      "source": [
        "### Compile the data NODE-EDGE and the GNN to admit that data"
      ]
    },
    {
      "cell_type": "code",
      "execution_count": null,
      "id": "bW7qKBEgsZTB",
      "metadata": {
        "id": "bW7qKBEgsZTB"
      },
      "outputs": [],
      "source": [
        "data = Data(x=x, edge_index=edge_index, edge_attr=weights)\n"
      ]
    },
    {
      "cell_type": "code",
      "execution_count": null,
      "id": "xog_qSZisZTB",
      "metadata": {
        "id": "xog_qSZisZTB"
      },
      "outputs": [],
      "source": [
        "class GNN(torch.nn.Module):\n",
        "    def __init__(self, in_channels, hidden_channels, out_channels):\n",
        "        super().__init__()\n",
        "        self.conv1 = GCNConv(in_channels, hidden_channels)\n",
        "        self.conv2 = GCNConv(hidden_channels, out_channels)\n",
        "\n",
        "    def forward(self, data):\n",
        "        x, edge_index, edge_weight = data.x, data.edge_index, data.edge_attr\n",
        "        x = self.conv1(x, edge_index, edge_weight)\n",
        "        x = torch.relu(x)\n",
        "        x = self.conv2(x, edge_index, edge_weight)\n",
        "        return x\n"
      ]
    },
    {
      "cell_type": "code",
      "execution_count": null,
      "id": "4GoS13PtsZTC",
      "metadata": {
        "colab": {
          "base_uri": "https://localhost:8080/"
        },
        "id": "4GoS13PtsZTC",
        "outputId": "c1edc835-e1da-4482-b2a5-2b475fd2e699"
      },
      "outputs": [
        {
          "name": "stdout",
          "output_type": "stream",
          "text": [
            "Node importance (embedding norms):\n",
            "tensor([1053.6425, 2630.2607, 3085.3369, 2527.3960, 1970.4847, 2515.0132,\n",
            "         918.1362, 2427.4214, 2548.8447, 2069.6230])\n"
          ]
        }
      ],
      "source": [
        "model = GNN(in_channels=x.shape[1], hidden_channels=16, out_channels=8)\n",
        "model.eval()\n",
        "with torch.no_grad():\n",
        "    out = model(data)\n",
        "\n",
        "node_importance = out.norm(dim=1)\n",
        "print(\"Node importance (embedding norms):\")\n",
        "print(node_importance)\n"
      ]
    },
    {
      "cell_type": "markdown",
      "id": "t73y4-3Kn9tF",
      "metadata": {
        "id": "t73y4-3Kn9tF"
      },
      "source": [
        "### Visualize the Data"
      ]
    },
    {
      "cell_type": "code",
      "execution_count": null,
      "id": "k6T2gpH9n3yK",
      "metadata": {
        "id": "k6T2gpH9n3yK"
      },
      "outputs": [],
      "source": [
        "def visualize_network (features, edges):\n",
        "    G = nx.DiGraph()\n",
        "    G.add_nodes_from(features['id'].tolist())\n",
        "\n",
        "    # Mixed visualization with flow + infrastructure\n",
        "    G = nx.DiGraph()\n",
        "    G.add_nodes_from(features['id'].tolist())\n",
        "\n",
        "    # Label and color by type\n",
        "    labels = {row['id']: row['type'] for _, row in features.iterrows()}\n",
        "    type_colors = {typ: i for i, typ in enumerate(features['type'].unique())}\n",
        "    node_colors = [type_colors[labels[n]] for n in G.nodes]\n",
        "\n",
        "    # Add all infrastructure edges as dashed undirected links\n",
        "    infra_edges = [(row['source'], row['target']) for _, row in edges.iterrows()]\n",
        "    G.add_edges_from(infra_edges)\n",
        "\n",
        "    # Add resource requirement edges as directed arrows with labels\n",
        "    edge_labels = {}\n",
        "    for _, row in requirements.iterrows():\n",
        "        G.add_edge(row['from_id'], row['to_id'])\n",
        "        edge_labels[(row['from_id'], row['to_id'])] = f\"{row['resource_type']}: {row['quantity']}\"\n",
        "\n",
        "    # Layout and draw\n",
        "    pos = nx.spring_layout(G, seed=42)\n",
        "    nx.draw_networkx_nodes(G, pos, node_color=node_colors, cmap=plt.cm.Paired, node_size=700)\n",
        "    nx.draw_networkx_labels(G, pos, labels=labels)\n",
        "\n",
        "    # Draw undirected infrastructure (dashed, light gray)\n",
        "    nx.draw_networkx_edges(G, pos, edgelist=infra_edges, style=\"dashed\", edge_color='lightgray')\n",
        "\n",
        "    # Draw requirement flows (directed arrows)\n",
        "    requirement_edges = [(r['from_id'], r['to_id']) for _, r in requirements.iterrows()]\n",
        "    nx.draw_networkx_edges(G, pos, edgelist=requirement_edges, edge_color='black', arrows=True, arrowsize=20)\n",
        "\n",
        "    # Add resource labels\n",
        "    nx.draw_networkx_edge_labels(G, pos, edge_labels=edge_labels, font_size=8)\n",
        "\n",
        "    plt.title(\"City Graph with Roads (gray) and Resource Flows (arrows)\")\n",
        "    plt.show()\n"
      ]
    },
    {
      "cell_type": "code",
      "execution_count": null,
      "id": "FJMZBjNGsZTC",
      "metadata": {
        "colab": {
          "base_uri": "https://localhost:8080/",
          "height": 428
        },
        "id": "FJMZBjNGsZTC",
        "outputId": "b45c534c-4933-4385-ac6d-3e0c7d5cf408"
      },
      "outputs": [
        {
          "data": {
            "image/png": "[encoded data removed]",
            "text/plain": [
              "<Figure size 640x480 with 1 Axes>"
            ]
          },
          "metadata": {},
          "output_type": "display_data"
        }
      ],
      "source": [
        "visualize_network(features, edges)"
      ]
    },
    {
      "cell_type": "markdown",
      "id": "gIdOksJmoaoc",
      "metadata": {
        "id": "gIdOksJmoaoc"
      },
      "source": [
        "# Data and Problem Interpretation"
      ]
    },
    {
      "cell_type": "markdown",
      "id": "pCwMHvg6u3FX",
      "metadata": {
        "id": "pCwMHvg6u3FX"
      },
      "source": [
        "## 🧠 Interpreting the Graph\n",
        "\n",
        "### 🔹 Dashed Gray Lines = Roads\n",
        "- These come from `edges.csv`, representing **physical connections** between landmarks (e.g., roads or pipelines).\n",
        "- They form the **infrastructure graph** — used by the GNN to learn how resources can travel.\n",
        "- These are **undirected** (bidirectional use assumed).\n",
        "\n",
        "### 🔸 Black Arrows = Resource Flows\n",
        "- These are derived from `requirements.csv`, showing **who needs what**.\n",
        "- Each arrow is directed: from a **producer** to a **consumer**.\n",
        "- The label includes the **resource type** (e.g., water, minerals) and the **quantity** requested.\n",
        "\n",
        "---\n",
        "\n",
        "## 🧠 What Is the Role of the GNN?\n",
        "\n",
        "The Graph Neural Network (GNN) computes an **embedding** (a learned vector) for each node, capturing:\n",
        "- The node’s **features** (type, production levels, etc.),\n",
        "- Its **position in the network** (who it's connected to),\n",
        "- The **edge weights** (e.g., inverse distance, used to favor closer nodes).\n",
        "\n",
        "These embeddings encode **contextual roles** of each node — e.g., is it a producer, a hub, a bottleneck?\n",
        "\n",
        "---\n",
        "\n",
        "## 🧠 What Could You Use the GNN For?\n",
        "\n",
        "Here are some ideas for next steps or assignments:\n",
        "\n",
        "### ✅ Predict Fulfillment\n",
        "- Train a classifier on top of the GNN to predict whether a node's resource needs are **fully met**, **partially met**, or **unmet**.\n",
        "\n",
        "### ✅ Rank Node Criticality\n",
        "- Simulate node removal (e.g., a power plant goes offline) and observe how embeddings or connectivity shift.\n",
        "- Use embedding norms or centrality metrics as **importance scores**.\n",
        "\n",
        "### ✅ Route Optimization\n",
        "- Extend edge weights with real costs (e.g., traffic, pollution) and train the GNN to recommend **optimal transfer routes**.\n",
        "\n",
        "### ✅ Clustering / Community Detection\n",
        "- Group nodes based on learned embeddings to identify **functional clusters** (e.g., an industrial area vs. residential).\n",
        "\n",
        "### ✅ Temporal Dynamics (Advanced)\n",
        "- Add a time dimension (day/night production, peaks) and use a **temporal GNN** to simulate real-world city operations.\n",
        "\n",
        "---\n",
        "\n",
        "Feel free to experiment with these extensions or define your own challenge based on the GNN outputs!\n"
      ]
    },
    {
      "cell_type": "markdown",
      "id": "WQbQ0nHPokei",
      "metadata": {
        "id": "WQbQ0nHPokei"
      },
      "source": [
        "# Train a GNN to use the Data"
      ]
    },
    {
      "cell_type": "markdown",
      "id": "Kvm1SFfwwYN9",
      "metadata": {
        "id": "Kvm1SFfwwYN9"
      },
      "source": [
        "## Creation of the Scenario"
      ]
    },
    {
      "cell_type": "code",
      "execution_count": null,
      "id": "Jcwz_IEkdjrg",
      "metadata": {
        "id": "Jcwz_IEkdjrg"
      },
      "outputs": [],
      "source": [
        "import torch\n",
        "import torch.nn as nn\n",
        "import torch.nn.functional as F\n",
        "from torch_geometric.data import Data\n",
        "from torch_geometric.nn import GCNConv\n",
        "import pandas as pd"
      ]
    },
    {
      "cell_type": "code",
      "execution_count": null,
      "id": "bc1PtZfidlso",
      "metadata": {
        "id": "bc1PtZfidlso"
      },
      "outputs": [],
      "source": [
        "# Define a simple city graph (nodes: landmarks, edges: connections)\n",
        "features = [\n",
        "    {\"id\": 0, \"type\": \"factory\", \"goods_prod\": 157.0, \"needs\": \"materials,minerals\", \"citizens\": None, \"water_prod\": None, \"materials_prod\": None, \"minerals_prod\": None, \"energy_prod\": 0},\n",
        "    {\"id\": 1, \"type\": \"housing\", \"goods_prod\": None, \"needs\": \"water,energy,goods\", \"citizens\": 1063.0, \"water_prod\": None, \"materials_prod\": None, \"minerals_prod\": None, \"energy_prod\": 0},\n",
        "    {\"id\": 2, \"type\": \"water_source\", \"goods_prod\": None, \"needs\": None, \"citizens\": None, \"water_prod\": 8657.0, \"materials_prod\": None, \"minerals_prod\": None, \"energy_prod\": 0},\n",
        "    {\"id\": 3, \"type\": \"water_source\", \"goods_prod\": None, \"needs\": None, \"citizens\": None, \"water_prod\": 6679.0, \"materials_prod\": None, \"minerals_prod\": None, \"energy_prod\": 0},\n",
        "    {\"id\": 4, \"type\": \"factory\", \"goods_prod\": 379.0, \"needs\": \"materials,minerals\", \"citizens\": None, \"water_prod\": None, \"materials_prod\": None, \"minerals_prod\": None, \"energy_prod\": 0},\n",
        "    {\"id\": 5, \"type\": \"housing\", \"goods_prod\": None, \"needs\": \"water,energy,goods\", \"citizens\": 1709.0, \"water_prod\": None, \"materials_prod\": None, \"minerals_prod\": None, \"energy_prod\": 0},\n",
        "    {\"id\": 6, \"type\": \"farm\", \"goods_prod\": None, \"needs\": None, \"citizens\": None, \"water_prod\": None, \"materials_prod\": 216.0, \"minerals_prod\": None, \"energy_prod\": 0},\n",
        "    {\"id\": 7, \"type\": \"housing\", \"goods_prod\": None, \"needs\": \"water,energy,goods\", \"citizens\": 691.0, \"water_prod\": None, \"materials_prod\": None, \"minerals_prod\": None, \"energy_prod\": 0},\n",
        "    {\"id\": 8, \"type\": \"water_source\", \"goods_prod\": None, \"needs\": None, \"citizens\": None, \"water_prod\": 8811.0, \"materials_prod\": None, \"minerals_prod\": None, \"energy_prod\": 0},\n",
        "    {\"id\": 9, \"type\": \"mine\", \"goods_prod\": None, \"needs\": None, \"citizens\": None, \"water_prod\": None, \"materials_prod\": None, \"minerals_prod\": 254.0, \"energy_prod\": 0},\n",
        "]\n",
        "\n",
        "features = pd.DataFrame(features)\n",
        "#print(features)\n",
        "\n",
        "type_map = {t: i for i, t in enumerate(features['type'].unique())}\n",
        "features['type_id'] = features['type'].map(type_map)\n",
        "node_feats = features[['type_id', 'citizens', 'water_prod', 'energy_prod',\n",
        "                       'materials_prod', 'minerals_prod', 'goods_prod']].fillna(0)\n",
        "x = torch.tensor(node_feats.values, dtype=torch.float)\n"
      ]
    },
    {
      "cell_type": "code",
      "execution_count": null,
      "id": "yKwBF_MlfELU",
      "metadata": {
        "id": "yKwBF_MlfELU"
      },
      "outputs": [],
      "source": [
        "# source  target  distance\n",
        "edges = [\n",
        "    [0, 6, 1.11],\n",
        "    [0, 9, 3.86],\n",
        "    [1, 2, 3.18],\n",
        "    [1, 4, 2.80],\n",
        "    [4, 6, 4.24],\n",
        "    [4, 9, 4.04],\n",
        "    [5, 3, 3.79],\n",
        "    [5, 0, 2.11],\n",
        "    [7, 3, 4.83],\n",
        "    [7, 4, 1.41],\n",
        "    [0, 1, 4.39],\n",
        "    [1, 6, 1.91],\n",
        "    [1, 7, 1.32],\n",
        "    [1, 8, 1.40],\n",
        "    [1, 9, 3.54],\n",
        "    [2, 5, 2.07],\n",
        "    [2, 9, 3.92],\n",
        "    [3, 4, 2.52],\n",
        "    [5, 6, 4.77],\n",
        "    [7, 8, 1.99],\n",
        "    [8, 9, 3.34]\n",
        "]\n",
        "edges = pd.DataFrame(edges)\n",
        "edges.columns = ['source', 'target', 'distance']\n",
        "\n",
        "edge_index = torch.tensor(edges[['source', 'target']].values.T, dtype=torch.long)\n",
        "rev_index = edge_index[[1, 0], :]\n",
        "edge_index = torch.cat([edge_index, rev_index], dim=1)\n",
        "\n",
        "weights = torch.tensor([1.0 / d for d in edges['distance']], dtype=torch.float)\n",
        "weights = torch.cat([weights, weights], dim=0)"
      ]
    },
    {
      "cell_type": "code",
      "execution_count": null,
      "id": "GXjNmwHvhecx",
      "metadata": {
        "id": "GXjNmwHvhecx"
      },
      "outputs": [],
      "source": [
        "# Define requirements (just for info/debugging, not yet used by the GNN)\n",
        "requirements = [\n",
        "    {\"from_id\": 6, \"to_id\": 0, \"resource_type\": \"materials\", \"quantity\": 100},\n",
        "    {\"from_id\": 9, \"to_id\": 0, \"resource_type\": \"minerals\", \"quantity\": 229},\n",
        "    {\"from_id\": 2, \"to_id\": 1, \"resource_type\": \"water\", \"quantity\": 106},\n",
        "    {\"from_id\": 4, \"to_id\": 1, \"resource_type\": \"goods\", \"quantity\": 121},\n",
        "    {\"from_id\": 6, \"to_id\": 4, \"resource_type\": \"materials\", \"quantity\": 51},\n",
        "    {\"from_id\": 9, \"to_id\": 4, \"resource_type\": \"minerals\", \"quantity\": 90},\n",
        "    {\"from_id\": 3, \"to_id\": 5, \"resource_type\": \"water\", \"quantity\": 137},\n",
        "    {\"from_id\": 0, \"to_id\": 5, \"resource_type\": \"goods\", \"quantity\": 105},\n",
        "    {\"from_id\": 3, \"to_id\": 7, \"resource_type\": \"water\", \"quantity\": 136},\n",
        "    {\"from_id\": 4, \"to_id\": 7, \"resource_type\": \"goods\", \"quantity\": 147},\n",
        "]\n",
        "requirements = pd.DataFrame(requirements)"
      ]
    },
    {
      "cell_type": "code",
      "execution_count": null,
      "id": "61tW_J8ppCBY",
      "metadata": {
        "id": "61tW_J8ppCBY"
      },
      "outputs": [],
      "source": [
        "class GNN(torch.nn.Module):\n",
        "    def __init__(self, in_channels, hidden_channels, out_channels):\n",
        "        super().__init__()\n",
        "        self.conv1 = GCNConv(in_channels, hidden_channels)\n",
        "        self.conv2 = GCNConv(hidden_channels, out_channels)\n",
        "\n",
        "    def forward(self, data):\n",
        "        x, edge_index, edge_weight = data.x, data.edge_index, data.edge_attr\n",
        "        x = self.conv1(x, edge_index, edge_weight)\n",
        "        x = torch.relu(x)\n",
        "        x = self.conv2(x, edge_index, edge_weight)\n",
        "        return x"
      ]
    },
    {
      "cell_type": "code",
      "execution_count": null,
      "id": "jGI4OVmynLQs",
      "metadata": {
        "id": "jGI4OVmynLQs"
      },
      "outputs": [],
      "source": [
        "# Data Compilation\n",
        "data = Data(x=x, edge_index=edge_index, edge_attr=weights)\n",
        "model = GNN(in_channels=x.shape[1], hidden_channels=16, out_channels=8)\n",
        "\n",
        "model.eval()\n",
        "with torch.no_grad():\n",
        "    out = model(data)"
      ]
    },
    {
      "cell_type": "code",
      "execution_count": null,
      "id": "0Dg7Dibfne7Q",
      "metadata": {
        "colab": {
          "base_uri": "https://localhost:8080/"
        },
        "id": "0Dg7Dibfne7Q",
        "outputId": "a39dbdbc-eb8b-4c1a-f9a0-e996f2c2687b"
      },
      "outputs": [
        {
          "name": "stdout",
          "output_type": "stream",
          "text": [
            "Output node embeddings (each node has a 3D vector):\n",
            "tensor([[ 295.8575,  299.6250, -390.2595, -297.0040,  190.1328,  -79.2766,\n",
            "            3.3500,  174.2584],\n",
            "        [ 750.4222,  301.2884, -500.2173, -779.1451,  540.2883, -144.9733,\n",
            "            4.2087,  610.6088],\n",
            "        [ 879.1474,  285.2750, -530.4888, -925.5042,  665.3020, -192.2864,\n",
            "           -2.6560,  756.9499],\n",
            "        [ 726.1966,  222.8486, -403.1265, -750.1625,  517.1655, -116.9236,\n",
            "            8.2660,  603.5883],\n",
            "        [ 551.8876,  219.4340, -358.3135, -588.7949,  405.9086,  -89.1589,\n",
            "            6.3813,  465.4744],\n",
            "        [ 698.1617,  338.4983, -550.2859, -751.8951,  544.9579, -179.9585,\n",
            "           -3.8365,  591.3062],\n",
            "        [ 253.8703,  283.4755, -360.1791, -253.1029,  157.0334,  -66.2539,\n",
            "            4.2893,  139.1280],\n",
            "        [ 677.3234,  242.2922, -422.9308, -727.9068,  516.4683, -129.7476,\n",
            "            2.1150,  591.1791],\n",
            "        [ 736.1813,  221.0442, -412.0684, -759.8441,  532.0502, -136.2402,\n",
            "            3.0046,  616.1281],\n",
            "        [ 618.4584,  192.7698, -338.0568, -614.7319,  409.8666,  -89.8658,\n",
            "            7.3015,  480.6961]])\n"
          ]
        }
      ],
      "source": [
        "print(\"Output node embeddings (each node has a 3D vector):\")\n",
        "print(out)"
      ]
    },
    {
      "cell_type": "code",
      "execution_count": null,
      "id": "sBak4-qAnlx2",
      "metadata": {
        "colab": {
          "base_uri": "https://localhost:8080/"
        },
        "id": "sBak4-qAnlx2",
        "outputId": "88ebbbe7-3bcd-4a0b-d956-891e2b00c9f1"
      },
      "outputs": [
        {
          "name": "stdout",
          "output_type": "stream",
          "text": [
            "Node importance (embedding norms):\n",
            "tensor([ 700.4521, 1482.2220, 1744.9467, 1395.6346, 1103.2758, 1466.0128,\n",
            "         622.1115, 1363.5477, 1421.0026, 1148.4847])\n"
          ]
        }
      ],
      "source": [
        "node_importance = out.norm(dim=1)\n",
        "print(\"Node importance (embedding norms):\")\n",
        "print(node_importance)\n"
      ]
    },
    {
      "cell_type": "code",
      "execution_count": null,
      "id": "RLtraD7loQuE",
      "metadata": {
        "colab": {
          "base_uri": "https://localhost:8080/",
          "height": 428
        },
        "id": "RLtraD7loQuE",
        "outputId": "ebdf84ac-f2d8-44ce-d0f8-9eab5b170438"
      },
      "outputs": [
        {
          "data": {
            "image/png": "[encoded data removed]",
            "text/plain": [
              "<Figure size 640x480 with 1 Axes>"
            ]
          },
          "metadata": {},
          "output_type": "display_data"
        }
      ],
      "source": [
        "visualize_network(features, edges)"
      ]
    },
    {
      "cell_type": "code",
      "execution_count": null,
      "id": "siTznDA5oohu",
      "metadata": {
        "id": "siTznDA5oohu"
      },
      "outputs": [],
      "source": [
        "# You can then use the output embeddings to cluster nodes, match supply-demand, or optimize paths.\n",
        "# For example: node 0 (housing) may embed close to nodes that satisfy its needs.\n",
        "\n",
        "# Next steps for students:\n",
        "# - Add more node types and features\n",
        "# - Include resource flow prediction or optimization\n",
        "# - Incorporate requirements into a custom loss function\n",
        "# - Use edge attributes (e.g., distance or capacity)\n",
        "# - Visualize the graph and embedding with networkx or matplotlib"
      ]
    },
    {
      "cell_type": "markdown",
      "id": "pb7PBdxAwT2T",
      "metadata": {
        "id": "pb7PBdxAwT2T"
      },
      "source": [
        "## Example with connections (simple version)"
      ]
    },
    {
      "cell_type": "code",
      "execution_count": null,
      "id": "wIwIKg6Avwti",
      "metadata": {
        "id": "wIwIKg6Avwti"
      },
      "outputs": [],
      "source": [
        "# Get final node embeddings from the trained (or untrained) GNN\n",
        "model.eval()\n",
        "with torch.no_grad():\n",
        "    embeddings = model(data)  # shape [num_nodes, emb_dim]"
      ]
    },
    {
      "cell_type": "code",
      "execution_count": null,
      "id": "2snbzBoLvtpT",
      "metadata": {
        "id": "2snbzBoLvtpT"
      },
      "outputs": [],
      "source": [
        "def check_resource(resource):\n",
        "  supply_nodes = features[features[f\"{resource}_prod\"].fillna(0) > 0].index.tolist()\n",
        "  demand_nodes = features[features['needs'].fillna('').str.contains(resource)].index.tolist()\n",
        "\n",
        "  # Prepare output: scores for each (supply, demand) pair\n",
        "  flows = []\n",
        "\n",
        "  for s in supply_nodes:\n",
        "      for d in demand_nodes:\n",
        "          # Embedding-based similarity (e.g., dot product)\n",
        "          sim_score = torch.dot(embeddings[s], embeddings[d]).item()\n",
        "\n",
        "          # Get distance between s and d (or large penalty if no edge)\n",
        "          match = edges[((edges['source'] == s) & (edges['target'] == d)) |\n",
        "                        ((edges['source'] == d) & (edges['target'] == s))]\n",
        "          if match.empty:\n",
        "              continue  # or assign a large cost\n",
        "          distance = match['distance'].values[0]\n",
        "          inv_dist = 1 / distance\n",
        "\n",
        "          # Final score (you can weight similarity vs distance differently)\n",
        "          final_score = sim_score * inv_dist\n",
        "\n",
        "          flows.append({\"from\": s, \"to\": d, \"score\": final_score})\n",
        "\n",
        "  # Sort by score\n",
        "  flows = sorted(flows, key=lambda x: -x[\"score\"])\n",
        "  return flows"
      ]
    },
    {
      "cell_type": "code",
      "execution_count": null,
      "id": "UYwunURnXGmL",
      "metadata": {
        "colab": {
          "base_uri": "https://localhost:8080/"
        },
        "id": "UYwunURnXGmL",
        "outputId": "0b4c1a1d-4897-48a7-d90d-1df38f8c1d88"
      },
      "outputs": [
        {
          "name": "stdout",
          "output_type": "stream",
          "text": [
            "Send materials from 6 to 0 (score: 392026.91)\n",
            "Send materials from 6 to 4 (score: 145007.31)\n"
          ]
        }
      ],
      "source": [
        "# Identify supply and demand nodes\n",
        "resource = \"materials\"\n",
        "flows = check_resource(resource)\n",
        "\n",
        "# Print top suggested flows\n",
        "#print(\"Top suggested flows for\", resource)\n",
        "#for f in flows[:10]:\n",
        "for f in flows:\n",
        "    print(f\"Send {resource} from {f['from']} to {f['to']} (score: {f['score']:.2f})\")\n"
      ]
    },
    {
      "cell_type": "code",
      "execution_count": null,
      "id": "OyqVdLYXr0mK",
      "metadata": {
        "colab": {
          "base_uri": "https://localhost:8080/"
        },
        "id": "OyqVdLYXr0mK",
        "outputId": "ad9b43e1-defe-4aaa-d413-f2d9bc2cecdc"
      },
      "outputs": [
        {
          "name": "stdout",
          "output_type": "stream",
          "text": [
            "Send water from 8 to 1 (score: 1500453.57)\n",
            "Send water from 2 to 5 (score: 1228463.41)\n",
            "Send water from 8 to 7 (score: 973002.20)\n",
            "Send water from 2 to 1 (score: 811844.03)\n",
            "Send water from 3 to 5 (score: 535109.07)\n",
            "Send water from 3 to 7 (score: 393690.22)\n"
          ]
        }
      ],
      "source": [
        "# Identify supply and demand nodes\n",
        "resource = \"water\"\n",
        "flows = check_resource(resource)\n",
        "\n",
        "# Print top suggested flows\n",
        "#print(\"Top suggested flows for\", resource)\n",
        "#for f in flows[:10]:\n",
        "for f in flows:\n",
        "    print(f\"Send {resource} from {f['from']} to {f['to']} (score: {f['score']:.2f})\")\n"
      ]
    },
    {
      "cell_type": "markdown",
      "id": "CgWpH47fwcB-",
      "metadata": {
        "id": "CgWpH47fwcB-"
      },
      "source": [
        "## Full example with quantities"
      ]
    },
    {
      "cell_type": "code",
      "execution_count": null,
      "id": "VlMO2wUDwfKC",
      "metadata": {
        "id": "VlMO2wUDwfKC"
      },
      "outputs": [],
      "source": [
        "# Use GNN to get node embeddings\n",
        "model.eval()\n",
        "with torch.no_grad():\n",
        "    embeddings = model(data)"
      ]
    },
    {
      "cell_type": "code",
      "execution_count": null,
      "id": "8nj-mhxfwrYe",
      "metadata": {
        "id": "8nj-mhxfwrYe"
      },
      "outputs": [],
      "source": [
        "def check_supplies (resource):\n",
        "    # Get only relevant requirements for this resource\n",
        "    relevant_requirements = requirements[requirements['resource_type'] == resource]\n",
        "\n",
        "    # Collect flow scores\n",
        "    flow_scores = []\n",
        "\n",
        "    for _, row in relevant_requirements.iterrows():\n",
        "        to_id = row['to_id']\n",
        "        quantity_needed = row['quantity']\n",
        "\n",
        "        # Find all possible suppliers of this resource\n",
        "        possible_sources = features[features[f\"{resource}_prod\"].fillna(0) > 0].index.tolist()\n",
        "\n",
        "        scores = []\n",
        "        for from_id in possible_sources:\n",
        "            # Skip if no distance info\n",
        "            match = edges[((edges['source'] == from_id) & (edges['target'] == to_id)) |\n",
        "                          ((edges['source'] == to_id) & (edges['target'] == from_id))]\n",
        "            if match.empty:\n",
        "                continue\n",
        "            distance = match['distance'].values[0]\n",
        "            inv_dist = 1 / distance\n",
        "\n",
        "            # GNN-based similarity\n",
        "            score = torch.dot(embeddings[from_id], embeddings[to_id]).item() * inv_dist\n",
        "            scores.append((from_id, score))\n",
        "\n",
        "        if not scores:\n",
        "            continue\n",
        "\n",
        "        # Normalize scores\n",
        "        scores_tensor = torch.tensor([s[1] for s in scores])\n",
        "        probs = F.softmax(scores_tensor, dim=0).numpy()\n",
        "\n",
        "        for i, (from_id, _) in enumerate(scores):\n",
        "            flow_amount = probs[i] * quantity_needed\n",
        "            flow_scores.append({\n",
        "                \"from\": features.loc[features['id'] == from_id, 'type'].iloc[0] + ' (' + str(from_id) + ') ',\n",
        "                \"to\": features.loc[features['id'] == to_id, 'type'].iloc[0] + ' (' + str(to_id) + ') ',\n",
        "                \"resource\": resource,\n",
        "                \"quantity\": flow_amount\n",
        "            })\n",
        "\n",
        "    # Create DataFrame of flows\n",
        "    flow_df = pd.DataFrame(flow_scores)\n",
        "    return flow_df"
      ]
    },
    {
      "cell_type": "code",
      "execution_count": null,
      "id": "6ac1Js6iv1xv",
      "metadata": {
        "colab": {
          "base_uri": "https://localhost:8080/"
        },
        "id": "6ac1Js6iv1xv",
        "outputId": "d4c3de35-d316-48b3-d39e-19a8f69b903d"
      },
      "outputs": [
        {
          "name": "stdout",
          "output_type": "stream",
          "text": [
            "                from            to   resource  quantity\n",
            "0  water_source (2)   housing (1)       water       0.0\n",
            "1  water_source (8)   housing (1)       water     106.0\n",
            "2  water_source (2)   housing (5)       water     137.0\n",
            "3  water_source (3)   housing (5)       water       0.0\n",
            "4  water_source (3)   housing (7)       water       0.0\n",
            "5  water_source (8)   housing (7)       water     136.0\n",
            "0          farm (6)   factory (0)   materials     100.0\n",
            "1          farm (6)   factory (4)   materials      51.0\n",
            "0          mine (9)   factory (0)    minerals     229.0\n",
            "1          mine (9)   factory (4)    minerals      90.0\n",
            "0       factory (0)   housing (1)       goods       0.0\n",
            "1       factory (4)   housing (1)       goods     121.0\n",
            "2       factory (0)   housing (5)       goods     105.0\n",
            "3       factory (4)   housing (7)       goods     147.0\n"
          ]
        }
      ],
      "source": [
        "flow_1 = check_supplies(\"water\")\n",
        "flow_2 = check_supplies(\"materials\")\n",
        "flow_3 = check_supplies(\"minerals\")\n",
        "flow_4 = check_supplies(\"goods\")\n",
        "\n",
        "flow = pd.concat([flow_1, flow_2, flow_3, flow_4])\n",
        "\n",
        "print(flow.round(1))"
      ]
    },
    {
      "cell_type": "code",
      "execution_count": null,
      "id": "MO-oJvQ1wmSv",
      "metadata": {
        "id": "MO-oJvQ1wmSv"
      },
      "outputs": [],
      "source": []
    }
  ],
  "metadata": {
    "accelerator": "GPU",
    "colab": {
      "gpuType": "T4",
      "provenance": []
    },
    "kernelspec": {
      "display_name": "base",
      "language": "python",
      "name": "python3"
    },
    "language_info": {
      "codemirror_mode": {
        "name": "ipython",
        "version": 3
      },
      "file_extension": ".py",
      "mimetype": "text/x-python",
      "name": "python",
      "nbconvert_exporter": "python",
      "pygments_lexer": "ipython3",
      "version": "3.11.5"
    }
  },
  "nbformat": 4,
  "nbformat_minor": 5
}
